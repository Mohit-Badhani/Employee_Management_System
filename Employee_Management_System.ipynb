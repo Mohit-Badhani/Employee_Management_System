{
 "cells": [
  {
   "cell_type": "code",
   "execution_count": 3,
   "id": "ad0bad89-0666-4163-a800-6adfe20dea8c",
   "metadata": {},
   "outputs": [
    {
     "name": "stdout",
     "output_type": "stream",
     "text": [
      "Collecting mysql-connector-python\n",
      "  Downloading mysql_connector_python-9.3.0-cp312-cp312-win_amd64.whl.metadata (7.7 kB)\n",
      "Downloading mysql_connector_python-9.3.0-cp312-cp312-win_amd64.whl (16.4 MB)\n",
      "   ---------------------------------------- 0.0/16.4 MB ? eta -:--:--\n",
      "   ---------------------------------------- 0.0/16.4 MB ? eta -:--:--\n",
      "   --- ------------------------------------ 1.3/16.4 MB 6.1 MB/s eta 0:00:03\n",
      "   ----- ---------------------------------- 2.4/16.4 MB 7.9 MB/s eta 0:00:02\n",
      "   ------------- -------------------------- 5.5/16.4 MB 8.6 MB/s eta 0:00:02\n",
      "   ------------------- -------------------- 7.9/16.4 MB 9.5 MB/s eta 0:00:01\n",
      "   ----------------------- ---------------- 9.4/16.4 MB 9.8 MB/s eta 0:00:01\n",
      "   ------------------------------ --------- 12.6/16.4 MB 10.2 MB/s eta 0:00:01\n",
      "   ------------------------------------ --- 14.9/16.4 MB 10.0 MB/s eta 0:00:01\n",
      "   ---------------------------------------  16.3/16.4 MB 9.7 MB/s eta 0:00:01\n",
      "   ---------------------------------------- 16.4/16.4 MB 9.3 MB/s eta 0:00:00\n",
      "Installing collected packages: mysql-connector-python\n",
      "Successfully installed mysql-connector-python-9.3.0\n"
     ]
    }
   ],
   "source": [
    "!pip install mysql-connector-python"
   ]
  },
  {
   "cell_type": "code",
   "execution_count": 39,
   "id": "ab559245-cc67-4154-8d6e-ac673fc5ecce",
   "metadata": {},
   "outputs": [
    {
     "name": "stdout",
     "output_type": "stream",
     "text": [
      "\n",
      "Welcome to Employee Management Record\n",
      "Press:\n",
      "1 to Add Employee\n",
      "2 to Remove Employee\n",
      "3 to Promote Employee\n",
      "4 to Display Employees\n",
      "5 to Exit\n"
     ]
    },
    {
     "name": "stdin",
     "output_type": "stream",
     "text": [
      "Enter your Choice:  1\n",
      "Enter Employee Id:  1\n",
      "Enter Employee Name:  Mohit Badhani\n",
      "Enter Employee Post:  Manager\n",
      "Enter Employee Salary:  75000\n"
     ]
    },
    {
     "name": "stdout",
     "output_type": "stream",
     "text": [
      "Employee Added Successfully\n",
      "\n",
      "Welcome to Employee Management Record\n",
      "Press:\n",
      "1 to Add Employee\n",
      "2 to Remove Employee\n",
      "3 to Promote Employee\n",
      "4 to Display Employees\n",
      "5 to Exit\n"
     ]
    },
    {
     "name": "stdin",
     "output_type": "stream",
     "text": [
      "Enter your Choice:  1\n",
      "Enter Employee Id:  2\n",
      "Enter Employee Name:  Rohit Sharma\n",
      "Enter Employee Post:  Assistant Manager\n",
      "Enter Employee Salary:  42000\n"
     ]
    },
    {
     "name": "stdout",
     "output_type": "stream",
     "text": [
      "Employee Added Successfully\n",
      "\n",
      "Welcome to Employee Management Record\n",
      "Press:\n",
      "1 to Add Employee\n",
      "2 to Remove Employee\n",
      "3 to Promote Employee\n",
      "4 to Display Employees\n",
      "5 to Exit\n"
     ]
    },
    {
     "name": "stdin",
     "output_type": "stream",
     "text": [
      "Enter your Choice:  1\n",
      "Enter Employee Id:  3\n",
      "Enter Employee Name:  Nehal Joshi\n",
      "Enter Employee Post:  Receptionist\n",
      "Enter Employee Salary:  36000\n"
     ]
    },
    {
     "name": "stdout",
     "output_type": "stream",
     "text": [
      "Employee Added Successfully\n",
      "\n",
      "Welcome to Employee Management Record\n",
      "Press:\n",
      "1 to Add Employee\n",
      "2 to Remove Employee\n",
      "3 to Promote Employee\n",
      "4 to Display Employees\n",
      "5 to Exit\n"
     ]
    },
    {
     "name": "stdin",
     "output_type": "stream",
     "text": [
      "Enter your Choice:  1\n",
      "Enter Employee Id:  4\n",
      "Enter Employee Name:  Mukesh Chauhan\n",
      "Enter Employee Post:  Electrician\n",
      "Enter Employee Salary:  24000\n"
     ]
    },
    {
     "name": "stdout",
     "output_type": "stream",
     "text": [
      "Employee Added Successfully\n",
      "\n",
      "Welcome to Employee Management Record\n",
      "Press:\n",
      "1 to Add Employee\n",
      "2 to Remove Employee\n",
      "3 to Promote Employee\n",
      "4 to Display Employees\n",
      "5 to Exit\n"
     ]
    },
    {
     "name": "stdin",
     "output_type": "stream",
     "text": [
      "Enter your Choice:  1\n",
      "Enter Employee Id:  5\n",
      "Enter Employee Name:  Pawan Chaudhary\n",
      "Enter Employee Post:  Accountant\n",
      "Enter Employee Salary:  58000\n"
     ]
    },
    {
     "name": "stdout",
     "output_type": "stream",
     "text": [
      "Employee Added Successfully\n",
      "\n",
      "Welcome to Employee Management Record\n",
      "Press:\n",
      "1 to Add Employee\n",
      "2 to Remove Employee\n",
      "3 to Promote Employee\n",
      "4 to Display Employees\n",
      "5 to Exit\n"
     ]
    },
    {
     "name": "stdin",
     "output_type": "stream",
     "text": [
      "Enter your Choice:  4\n"
     ]
    },
    {
     "name": "stdout",
     "output_type": "stream",
     "text": [
      "Employee Id    :  1\n",
      "Employee Name  :  Mohit Badhani\n",
      "Employee Post  :  75000\n",
      "Employee Salary:  Manager\n",
      "------------------------------------\n",
      "Employee Id    :  2\n",
      "Employee Name  :  Rohit Sharma\n",
      "Employee Post  :  42000\n",
      "Employee Salary:  Assistant Manager\n",
      "------------------------------------\n",
      "Employee Id    :  3\n",
      "Employee Name  :  Nehal Joshi\n",
      "Employee Post  :  36000\n",
      "Employee Salary:  Receptionist\n",
      "------------------------------------\n",
      "Employee Id    :  4\n",
      "Employee Name  :  Mukesh Chauhan\n",
      "Employee Post  :  24000\n",
      "Employee Salary:  Electrician\n",
      "------------------------------------\n",
      "Employee Id    :  5\n",
      "Employee Name  :  Pawan Chaudhary\n",
      "Employee Post  :  58000\n",
      "Employee Salary:  Accountant\n",
      "------------------------------------\n",
      "\n",
      "Welcome to Employee Management Record\n",
      "Press:\n",
      "1 to Add Employee\n",
      "2 to Remove Employee\n",
      "3 to Promote Employee\n",
      "4 to Display Employees\n",
      "5 to Exit\n"
     ]
    },
    {
     "name": "stdin",
     "output_type": "stream",
     "text": [
      "Enter your Choice:  2\n",
      "Enter Employee Id:  5\n"
     ]
    },
    {
     "name": "stdout",
     "output_type": "stream",
     "text": [
      "Employee Removed Successfully\n",
      "\n",
      "Welcome to Employee Management Record\n",
      "Press:\n",
      "1 to Add Employee\n",
      "2 to Remove Employee\n",
      "3 to Promote Employee\n",
      "4 to Display Employees\n",
      "5 to Exit\n"
     ]
    },
    {
     "name": "stdin",
     "output_type": "stream",
     "text": [
      "Enter your Choice:  4\n"
     ]
    },
    {
     "name": "stdout",
     "output_type": "stream",
     "text": [
      "Employee Id    :  1\n",
      "Employee Name  :  Mohit Badhani\n",
      "Employee Post  :  75000\n",
      "Employee Salary:  Manager\n",
      "------------------------------------\n",
      "Employee Id    :  2\n",
      "Employee Name  :  Rohit Sharma\n",
      "Employee Post  :  42000\n",
      "Employee Salary:  Assistant Manager\n",
      "------------------------------------\n",
      "Employee Id    :  3\n",
      "Employee Name  :  Nehal Joshi\n",
      "Employee Post  :  36000\n",
      "Employee Salary:  Receptionist\n",
      "------------------------------------\n",
      "Employee Id    :  4\n",
      "Employee Name  :  Mukesh Chauhan\n",
      "Employee Post  :  24000\n",
      "Employee Salary:  Electrician\n",
      "------------------------------------\n",
      "\n",
      "Welcome to Employee Management Record\n",
      "Press:\n",
      "1 to Add Employee\n",
      "2 to Remove Employee\n",
      "3 to Promote Employee\n",
      "4 to Display Employees\n",
      "5 to Exit\n"
     ]
    },
    {
     "name": "stdin",
     "output_type": "stream",
     "text": [
      "Enter your Choice:  3\n",
      "Enter Employee's Id:  2\n",
      "Enter increase in Salary:  10000\n"
     ]
    },
    {
     "name": "stdout",
     "output_type": "stream",
     "text": [
      "Employee Promoted Successfully\n",
      "\n",
      "Welcome to Employee Management Record\n",
      "Press:\n",
      "1 to Add Employee\n",
      "2 to Remove Employee\n",
      "3 to Promote Employee\n",
      "4 to Display Employees\n",
      "5 to Exit\n"
     ]
    },
    {
     "name": "stdin",
     "output_type": "stream",
     "text": [
      "Enter your Choice:  4\n"
     ]
    },
    {
     "name": "stdout",
     "output_type": "stream",
     "text": [
      "Employee Id    :  1\n",
      "Employee Name  :  Mohit Badhani\n",
      "Employee Post  :  75000\n",
      "Employee Salary:  Manager\n",
      "------------------------------------\n",
      "Employee Id    :  2\n",
      "Employee Name  :  Rohit Sharma\n",
      "Employee Post  :  52000\n",
      "Employee Salary:  Assistant Manager\n",
      "------------------------------------\n",
      "Employee Id    :  3\n",
      "Employee Name  :  Nehal Joshi\n",
      "Employee Post  :  36000\n",
      "Employee Salary:  Receptionist\n",
      "------------------------------------\n",
      "Employee Id    :  4\n",
      "Employee Name  :  Mukesh Chauhan\n",
      "Employee Post  :  24000\n",
      "Employee Salary:  Electrician\n",
      "------------------------------------\n",
      "\n",
      "Welcome to Employee Management Record\n",
      "Press:\n",
      "1 to Add Employee\n",
      "2 to Remove Employee\n",
      "3 to Promote Employee\n",
      "4 to Display Employees\n",
      "5 to Exit\n"
     ]
    },
    {
     "name": "stdin",
     "output_type": "stream",
     "text": [
      "Enter your Choice:  5\n"
     ]
    },
    {
     "name": "stdout",
     "output_type": "stream",
     "text": [
      "Exiting the program. Goodbye!\n"
     ]
    }
   ],
   "source": [
    "import mysql.connector\n",
    "\n",
    "# Database connection\n",
    "con = mysql.connector.connect(\n",
    "    host=\"localhost\",\n",
    "    user=\"root\",\n",
    "    password=\"12345678\",\n",
    "    database=\"emp\"\n",
    ")\n",
    "\n",
    "cursor = con.cursor()\n",
    "\n",
    "# Function to check if an employee exists\n",
    "def check_employee(employee_id):\n",
    "    sql = 'SELECT * FROM employees WHERE id=%s'\n",
    "    cursor.execute(sql, (employee_id,))\n",
    "    cursor.fetchall()  # Clear unread results\n",
    "    return cursor.rowcount == 1\n",
    "\n",
    "# Function to add an employee\n",
    "def add_employee():\n",
    "    Id = input(\"Enter Employee Id: \")\n",
    "    if check_employee(Id):\n",
    "        print(\"Employee already exists. Please try again.\")\n",
    "        return\n",
    "\n",
    "    Name = input(\"Enter Employee Name: \")\n",
    "    Post = input(\"Enter Employee Post: \")\n",
    "    Salary = input(\"Enter Employee Salary: \")\n",
    "\n",
    "    sql = 'INSERT INTO employees (id, name, post, salary) VALUES (%s, %s, %s, %s)'\n",
    "    data = (Id, Name, Post, Salary)\n",
    "    try:\n",
    "        cursor.execute(sql, data)\n",
    "        con.commit()\n",
    "        print(\"Employee Added Successfully\")\n",
    "    except mysql.connector.Error as err:\n",
    "        print(f\"Error: {err}\")\n",
    "        con.rollback()\n",
    "\n",
    "# Function to remove an employee\n",
    "def remove_employee():\n",
    "    Id = input(\"Enter Employee Id: \")\n",
    "    if not check_employee(Id):\n",
    "        print(\"Employee does not exist. Please try again.\")\n",
    "        return\n",
    "\n",
    "    sql = 'DELETE FROM employees WHERE id=%s'\n",
    "    try:\n",
    "        cursor.execute(sql, (Id,))\n",
    "        con.commit()\n",
    "        print(\"Employee Removed Successfully\")\n",
    "    except mysql.connector.Error as err:\n",
    "        print(f\"Error: {err}\")\n",
    "        con.rollback()\n",
    "\n",
    "# Function to promote an employee\n",
    "def promote_employee():\n",
    "    Id = input(\"Enter Employee's Id: \")\n",
    "    if not check_employee(Id):\n",
    "        print(\"Employee does not exist. Please try again.\")\n",
    "        return\n",
    "\n",
    "    try:\n",
    "        Amount = float(input(\"Enter increase in Salary: \"))\n",
    "\n",
    "        sql_select = 'SELECT salary FROM employees WHERE id=%s'\n",
    "        cursor.execute(sql_select, (Id,))\n",
    "        current_salary = cursor.fetchone()[0]\n",
    "        new_salary = current_salary + Amount\n",
    "\n",
    "        sql_update = 'UPDATE employees SET salary=%s WHERE id=%s'\n",
    "        cursor.execute(sql_update, (new_salary, Id))\n",
    "        con.commit()\n",
    "        print(\"Employee Promoted Successfully\")\n",
    "\n",
    "    except (ValueError, mysql.connector.Error) as e:\n",
    "        print(f\"Error: {e}\")\n",
    "        con.rollback()\n",
    "\n",
    "# Function to display all employees\n",
    "def display_employees():\n",
    "    try:\n",
    "        sql = 'SELECT * FROM employees'\n",
    "        cursor.execute(sql)\n",
    "        employees = cursor.fetchall()\n",
    "        for employee in employees:\n",
    "            print(\"Employee Id    : \", employee[0])\n",
    "            print(\"Employee Name  : \", employee[1])\n",
    "            print(\"Employee Post  : \", employee[2])\n",
    "            print(\"Employee Salary: \", employee[3])\n",
    "            print(\"------------------------------------\")\n",
    "    except mysql.connector.Error as err:\n",
    "        print(f\"Error: {err}\")\n",
    "\n",
    "# Function to display the menu\n",
    "def menu():\n",
    "    while True:\n",
    "        print(\"\\nWelcome to Employee Management Record\")\n",
    "        print(\"Press:\")\n",
    "        print(\"1 to Add Employee\")\n",
    "        print(\"2 to Remove Employee\")\n",
    "        print(\"3 to Promote Employee\")\n",
    "        print(\"4 to Display Employees\")\n",
    "        print(\"5 to Exit\")\n",
    "\n",
    "        ch = input(\"Enter your Choice: \")\n",
    "\n",
    "        if ch == '1':\n",
    "            add_employee()\n",
    "        elif ch == '2':\n",
    "            remove_employee()\n",
    "        elif ch == '3':\n",
    "            promote_employee()\n",
    "        elif ch == '4':\n",
    "            display_employees()\n",
    "        elif ch == '5':\n",
    "            print(\"Exiting the program. Goodbye!\")\n",
    "            break\n",
    "        else:\n",
    "            print(\"Invalid Choice! Please try again.\")\n",
    "\n",
    "if __name__ == \"__main__\":\n",
    "    menu()"
   ]
  },
  {
   "cell_type": "code",
   "execution_count": null,
   "id": "8d9192f2-0203-4b3b-b4f7-b6a833ef612a",
   "metadata": {},
   "outputs": [],
   "source": []
  }
 ],
 "metadata": {
  "kernelspec": {
   "display_name": "Python [conda env:base] *",
   "language": "python",
   "name": "conda-base-py"
  },
  "language_info": {
   "codemirror_mode": {
    "name": "ipython",
    "version": 3
   },
   "file_extension": ".py",
   "mimetype": "text/x-python",
   "name": "python",
   "nbconvert_exporter": "python",
   "pygments_lexer": "ipython3",
   "version": "3.12.7"
  }
 },
 "nbformat": 4,
 "nbformat_minor": 5
}
